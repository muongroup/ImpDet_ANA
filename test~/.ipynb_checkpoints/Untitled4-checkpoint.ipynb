{
 "cells": [
  {
   "cell_type": "code",
   "execution_count": 1,
   "metadata": {},
   "outputs": [
    {
     "name": "stdout",
     "output_type": "stream",
     "text": [
      "(int) 2\n"
     ]
    }
   ],
   "source": [
    "1+1"
   ]
  },
  {
   "cell_type": "code",
   "execution_count": 2,
   "metadata": {},
   "outputs": [
    {
     "name": "stdout",
     "output_type": "stream",
     "text": [
      "(double) 1.0000000\n"
     ]
    }
   ],
   "source": [
    "2*(4+2)/12."
   ]
  },
  {
   "cell_type": "code",
   "execution_count": 3,
   "metadata": {},
   "outputs": [
    {
     "name": "stdout",
     "output_type": "stream",
     "text": [
      "(double) 1.7320508\n"
     ]
    }
   ],
   "source": [
    "sqrt(3.)"
   ]
  },
  {
   "cell_type": "code",
   "execution_count": 4,
   "metadata": {},
   "outputs": [
    {
     "name": "stdout",
     "output_type": "stream",
     "text": [
      "(bool) false\n"
     ]
    }
   ],
   "source": [
    "1>2"
   ]
  },
  {
   "cell_type": "code",
   "execution_count": 5,
   "metadata": {},
   "outputs": [
    {
     "name": "stdout",
     "output_type": "stream",
     "text": [
      "(double) 3.1415927\n"
     ]
    }
   ],
   "source": [
    "TMath::Pi()"
   ]
  },
  {
   "cell_type": "code",
   "execution_count": 6,
   "metadata": {},
   "outputs": [
    {
     "name": "stdout",
     "output_type": "stream",
     "text": [
      "(double) 0.22270259\n"
     ]
    }
   ],
   "source": [
    "TMath::Erf(.2)"
   ]
  },
  {
   "cell_type": "code",
   "execution_count": 7,
   "metadata": {},
   "outputs": [
    {
     "name": "stdout",
     "output_type": "stream",
     "text": [
      "(double) 0.50000000\n"
     ]
    }
   ],
   "source": [
    "double x=.5"
   ]
  },
  {
   "cell_type": "code",
   "execution_count": 8,
   "metadata": {},
   "outputs": [
    {
     "name": "stdout",
     "output_type": "stream",
     "text": [
      "(int) 30\n"
     ]
    }
   ],
   "source": [
    "int N=30"
   ]
  },
  {
   "cell_type": "code",
   "execution_count": 9,
   "metadata": {},
   "outputs": [
    {
     "name": "stdout",
     "output_type": "stream",
     "text": [
      "(double) 0.0000000\n"
     ]
    }
   ],
   "source": [
    "double geom_series=0"
   ]
  },
  {
   "cell_type": "code",
   "execution_count": 10,
   "metadata": {},
   "outputs": [],
   "source": [
    "for  (int i=0;i<N;i++)geom_series+=TMath::Power(x,i)"
   ]
  },
  {
   "cell_type": "code",
   "execution_count": 11,
   "metadata": {},
   "outputs": [
    {
     "name": "stdout",
     "output_type": "stream",
     "text": [
      "(double) 1.8626451e-09\n"
     ]
    }
   ],
   "source": [
    "TMath::Abs(geom_series - (1-TMath::Power(x,N-1))/(1-x))"
   ]
  },
  {
   "cell_type": "code",
   "execution_count": 12,
   "metadata": {},
   "outputs": [
    {
     "name": "stdout",
     "output_type": "stream",
     "text": [
      "0\n",
      "3\n",
      "5\n",
      "4\n",
      "1\n",
      "2\n"
     ]
    }
   ],
   "source": [
    "typedef std::vector<double> doubles;\n",
    "auto pVec = [](const doubles& v){for (auto&& x:v) cout << x << endl;};\n",
    "doubles v{0,3,5,4,1,2};\n",
    "pVec(v);"
   ]
  },
  {
   "cell_type": "code",
   "execution_count": 13,
   "metadata": {},
   "outputs": [
    {
     "name": "stdout",
     "output_type": "stream",
     "text": [
      "0\n",
      "1\n",
      "2\n",
      "3\n",
      "4\n",
      "5\n"
     ]
    }
   ],
   "source": [
    "std::sort(v.begin(),v.end());\n",
    "pVec(v);"
   ]
  },
  {
   "cell_type": "code",
   "execution_count": 14,
   "metadata": {},
   "outputs": [],
   "source": [
    "TCanvas canvas_2(\"c\",\"c\");\n",
    "TF1 f1(\"f1\",\"sin(x)/x\",0.,10.);"
   ]
  },
  {
   "cell_type": "code",
   "execution_count": 15,
   "metadata": {},
   "outputs": [
    {
     "data": {
      "image/png": "[encoded data removed]",
      "text/plain": [
       "<IPython.core.display.Image object>"
      ]
     },
     "metadata": {},
     "output_type": "display_data"
    }
   ],
   "source": [
    "f1.Draw();\n",
    "canvas_2.Draw();"
   ]
  },
  {
   "cell_type": "code",
   "execution_count": 16,
   "metadata": {},
   "outputs": [],
   "source": [
    "TF1 f2(\"f2\",\"[0]*sin([1]*x)\",0.,10.);"
   ]
  },
  {
   "cell_type": "code",
   "execution_count": 17,
   "metadata": {},
   "outputs": [
    {
     "data": {
      "image/png": "[encoded data removed]",
      "text/plain": [
       "<IPython.core.display.Image object>"
      ]
     },
     "metadata": {},
     "output_type": "display_data"
    }
   ],
   "source": [
    "f2.SetParameter(0,1);\n",
    "f2.SetParameter(1,1);\n",
    "f2.Draw();\n",
    "canvas_2.Draw();"
   ]
  },
  {
   "cell_type": "code",
   "execution_count": null,
   "metadata": {},
   "outputs": [],
   "source": []
  },
  {
   "cell_type": "code",
   "execution_count": 18,
   "metadata": {},
   "outputs": [],
   "source": [
    "auto pi = TMath::Pi();"
   ]
  },
  {
   "cell_type": "code",
   "execution_count": 19,
   "metadata": {},
   "outputs": [
    {
     "name": "stderr",
     "output_type": "stream",
     "text": [
      "\u001b[1minput_line_161:3:1: \u001b[0m\u001b[0;1;31merror: \u001b[0m\u001b[1mexpected expression\u001b[0m\n",
      "%%cpp -d\n",
      "\u001b[0;1;32m^\n",
      "\u001b[0m\u001b[1minput_line_161:3:2: \u001b[0m\u001b[0;1;31merror: \u001b[0m\u001b[1mexpected expression\u001b[0m\n",
      "%%cpp -d\n",
      "\u001b[0;1;32m ^\n",
      "\u001b[0m\u001b[1minput_line_161:3:3: \u001b[0m\u001b[0;1;31merror: \u001b[0m\u001b[1muse of undeclared identifier 'cpp'\u001b[0m\n",
      "%%cpp -d\n",
      "\u001b[0;1;32m  ^\n",
      "\u001b[0m\u001b[1minput_line_161:3:8: \u001b[0m\u001b[0;1;31merror: \u001b[0m\u001b[1muse of undeclared identifier 'd'\u001b[0m\n",
      "%%cpp -d\n",
      "\u001b[0;1;32m       ^\n",
      "\u001b[0m"
     ]
    }
   ],
   "source": [
    "//関数を使える\n",
    "double single(double *x, double *par) {\n",
    "return pow(sin(pi*par[0]*x[0])/(pi*par[0]*x[0]),2);\n",
    "}\n",
    "double nslit0(double *x,double *par){\n",
    "return pow(sin(pi*par[1]*x[0])/sin(pi*x[0]),2);\n",
    "}\n",
    "double nslit(double *x, double *par){\n",
    "return single(x,par) * nslit0(x,par);\n",
    "}"
   ]
  },
  {
   "cell_type": "code",
   "execution_count": 20,
   "metadata": {},
   "outputs": [
    {
     "name": "stderr",
     "output_type": "stream",
     "text": [
      "\u001b[1minput_line_162:14:32: \u001b[0m\u001b[0;1;31merror: \u001b[0m\u001b[1muse of undeclared identifier 'nslit'\u001b[0m\n",
      "TF1 *Fnslit = new TF1(\"Fnslit\",nslit,-5.001,5.,2);\n",
      "\u001b[0;1;32m                               ^\n",
      "\u001b[0m"
     ]
    }
   ],
   "source": [
    "%%cpp -d\n",
    "void slits() {\n",
    "float r,ns;\n",
    "r = 1;\n",
    "ns=0.45;\n",
    "/* // request user input for terminal use only\n",
    "cout << \"slit width / g ? \";\n",
    "scanf(\"%f\",&r);\n",
    "cout << \"# of slits? \";\n",
    "scanf(\"%f\",&ns);\n",
    "cout <<\"interference pattern for \"<< ns\n",
    "<<\" slits, width/distance: \"<<r<<endl;\n",
    "*/\n",
    "// define function and set options\n",
    "TF1 *Fnslit = new TF1(\"Fnslit\",nslit,-5.001,5.,2);\n",
    "Fnslit->SetNpx(500);\n",
    "// set parameters, as read in above\n",
    "Fnslit->SetParameter(0,r);\n",
    "Fnslit->SetParameter(1,ns);\n",
    "// draw the interference pattern for a grid with n slits\n",
    "Fnslit->Draw();\n",
    "}"
   ]
  },
  {
   "cell_type": "code",
   "execution_count": 21,
   "metadata": {},
   "outputs": [
    {
     "name": "stderr",
     "output_type": "stream",
     "text": [
      "\u001b[1minput_line_164:2:3: \u001b[0m\u001b[0;1;31merror: \u001b[0m\u001b[1muse of undeclared identifier 'slits'\u001b[0m\n",
      " (slits())\n",
      "\u001b[0;1;32m  ^\n",
      "\u001b[0mError in <HandleInterpreterException>: Error evaluating expression (slits()).\n",
      "Execution of your code was aborted.\n"
     ]
    }
   ],
   "source": [
    "slits();\n",
    "canvas_2.Draw();"
   ]
  },
  {
   "cell_type": "code",
   "execution_count": 22,
   "metadata": {},
   "outputs": [
    {
     "name": "stderr",
     "output_type": "stream",
     "text": [
      "\u001b[1minput_line_165:3:1: \u001b[0m\u001b[0;1;31merror: \u001b[0m\u001b[1mexpected expression\u001b[0m\n",
      ".!ls\n",
      "\u001b[0;1;32m^\n",
      "\u001b[0m"
     ]
    }
   ],
   "source": [
    "//UNIXコマンドをつかうことができる\n",
    ".!ls"
   ]
  },
  {
   "cell_type": "code",
   "execution_count": 23,
   "metadata": {},
   "outputs": [
    {
     "name": "stderr",
     "output_type": "stream",
     "text": [
      "\u001b[1minput_line_166:3:1: \u001b[0m\u001b[0;1;31merror: \u001b[0m\u001b[1mexpected expression\u001b[0m\n",
      ".help\n",
      "\u001b[0;1;32m^\n",
      "\u001b[0m"
     ]
    }
   ],
   "source": [
    "//root interpreterで使えるコマンドも使える\n",
    ".help"
   ]
  },
  {
   "cell_type": "code",
   "execution_count": 24,
   "metadata": {},
   "outputs": [
    {
     "data": {
      "image/png": "[encoded data removed]",
      "text/plain": [
       "<IPython.core.display.Image object>"
      ]
     },
     "metadata": {},
     "output_type": "display_data"
    }
   ],
   "source": [
    "TCanvas canvas_2_5;\n",
    "TGraphErrors gr(\"ExampleData.txt\");\n",
    "gr.Draw(\"AP\");\n",
    "canvas_2_5.Draw();"
   ]
  },
  {
   "cell_type": "code",
   "execution_count": 25,
   "metadata": {},
   "outputs": [
    {
     "data": {
      "image/png": "[encoded data removed]",
      "text/plain": [
       "<IPython.core.display.Image object>"
      ]
     },
     "metadata": {},
     "output_type": "display_data"
    }
   ],
   "source": [
    "TCanvas canvas_2_6;\n",
    "TF1 efunc(\"efunc\",\"exp([0]+[1]*x)\",0.,5.);\n",
    "efunc.SetParameter(0,1);\n",
    "efunc.SetParameter(1,-1);\n",
    "TH1F hist_2_6_1(\"histogram 2.6.1\",\"example histogram\",100,0.,5.);\n",
    "for (int i=0;i<1000;i++) {hist_2_6_1.Fill(efunc.GetRandom());}\n",
    "hist_2_6_1.Draw();\n",
    "canvas_2_6.Draw();"
   ]
  },
  {
   "cell_type": "code",
   "execution_count": 26,
   "metadata": {},
   "outputs": [
    {
     "data": {
      "image/png": "[encoded data removed]",
      "text/plain": [
       "<IPython.core.display.Image object>"
      ]
     },
     "metadata": {},
     "output_type": "display_data"
    }
   ],
   "source": [
    "TH1F hist_2_6_2(\"histogram 2.6.2\",\"example histogram\",100,0.,5.);\n",
    "ifstream inp;\n",
    "inp.open(\"../data/expo.dat\");\n",
    "while (inp >> x) { hist_2_6_2.Fill(x); }\n",
    "hist_2_6_2.Draw();\n",
    "inp.close();\n",
    "canvas_2_6.Draw();"
   ]
  }
 ],
 "metadata": {
  "kernelspec": {
   "display_name": "ROOT C++",
   "language": "c++",
   "name": "root"
  },
  "language_info": {
   "codemirror_mode": "text/x-c++src",
   "file_extension": ".C",
   "mimetype": " text/x-c++src",
   "name": "c++"
  }
 },
 "nbformat": 4,
 "nbformat_minor": 2
}
